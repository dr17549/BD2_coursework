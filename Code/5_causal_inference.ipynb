{
 "cells": [
  {
   "cell_type": "code",
   "execution_count": 1,
   "metadata": {},
   "outputs": [],
   "source": [
    "import pandas as pd\n",
    "import matplotlib.pyplot as plt\n",
    "import seaborn as sns\n",
    "\n",
    "from sklearn.model_selection import train_test_split\n",
    "from sklearn.preprocessing import StandardScaler\n",
    "from sklearn.linear_model import Lasso\n",
    "from sklearn.linear_model import LogisticRegression\n",
    "from sklearn.tree import DecisionTreeClassifier, DecisionTreeRegressor\n",
    "from sklearn.tree import export_graphviz\n",
    "\n",
    "# graphviz required!\n",
    "# instructions: https://graphviz.readthedocs.io/en/stable/manual.html\n",
    "from graphviz import Source\n",
    "from IPython.display import display\n",
    "from IPython.display import SVG\n",
    "\n",
    "import statsmodels.api as sm\n",
    "%matplotlib inline"
   ]
  },
  {
   "cell_type": "markdown",
   "metadata": {},
   "source": [
    "# Data for treatment effects"
   ]
  },
  {
   "cell_type": "code",
   "execution_count": 2,
   "metadata": {},
   "outputs": [
    {
     "data": {
      "text/html": [
       "<div>\n",
       "<style scoped>\n",
       "    .dataframe tbody tr th:only-of-type {\n",
       "        vertical-align: middle;\n",
       "    }\n",
       "\n",
       "    .dataframe tbody tr th {\n",
       "        vertical-align: top;\n",
       "    }\n",
       "\n",
       "    .dataframe thead th {\n",
       "        text-align: right;\n",
       "    }\n",
       "</style>\n",
       "<table border=\"1\" class=\"dataframe\">\n",
       "  <thead>\n",
       "    <tr style=\"text-align: right;\">\n",
       "      <th></th>\n",
       "      <th>int_rate</th>\n",
       "      <th>loan_amnt</th>\n",
       "      <th>grade_A</th>\n",
       "      <th>grade_B</th>\n",
       "      <th>grade_C</th>\n",
       "      <th>grade_D</th>\n",
       "      <th>grade_E</th>\n",
       "      <th>grade_F</th>\n",
       "      <th>default</th>\n",
       "      <th>high_rate</th>\n",
       "    </tr>\n",
       "  </thead>\n",
       "  <tbody>\n",
       "    <tr>\n",
       "      <th>0</th>\n",
       "      <td>10.65</td>\n",
       "      <td>5000.0</td>\n",
       "      <td>0</td>\n",
       "      <td>1</td>\n",
       "      <td>0</td>\n",
       "      <td>0</td>\n",
       "      <td>0</td>\n",
       "      <td>0</td>\n",
       "      <td>0</td>\n",
       "      <td>0.0</td>\n",
       "    </tr>\n",
       "    <tr>\n",
       "      <th>1</th>\n",
       "      <td>15.27</td>\n",
       "      <td>2500.0</td>\n",
       "      <td>0</td>\n",
       "      <td>0</td>\n",
       "      <td>1</td>\n",
       "      <td>0</td>\n",
       "      <td>0</td>\n",
       "      <td>0</td>\n",
       "      <td>1</td>\n",
       "      <td>1.0</td>\n",
       "    </tr>\n",
       "    <tr>\n",
       "      <th>2</th>\n",
       "      <td>15.96</td>\n",
       "      <td>2400.0</td>\n",
       "      <td>0</td>\n",
       "      <td>0</td>\n",
       "      <td>1</td>\n",
       "      <td>0</td>\n",
       "      <td>0</td>\n",
       "      <td>0</td>\n",
       "      <td>0</td>\n",
       "      <td>1.0</td>\n",
       "    </tr>\n",
       "    <tr>\n",
       "      <th>3</th>\n",
       "      <td>13.49</td>\n",
       "      <td>10000.0</td>\n",
       "      <td>0</td>\n",
       "      <td>0</td>\n",
       "      <td>1</td>\n",
       "      <td>0</td>\n",
       "      <td>0</td>\n",
       "      <td>0</td>\n",
       "      <td>0</td>\n",
       "      <td>0.0</td>\n",
       "    </tr>\n",
       "    <tr>\n",
       "      <th>4</th>\n",
       "      <td>12.69</td>\n",
       "      <td>3000.0</td>\n",
       "      <td>0</td>\n",
       "      <td>1</td>\n",
       "      <td>0</td>\n",
       "      <td>0</td>\n",
       "      <td>0</td>\n",
       "      <td>0</td>\n",
       "      <td>0</td>\n",
       "      <td>0.0</td>\n",
       "    </tr>\n",
       "  </tbody>\n",
       "</table>\n",
       "</div>"
      ],
      "text/plain": [
       "   int_rate  loan_amnt  grade_A  grade_B  grade_C  grade_D  grade_E  grade_F  \\\n",
       "0     10.65     5000.0        0        1        0        0        0        0   \n",
       "1     15.27     2500.0        0        0        1        0        0        0   \n",
       "2     15.96     2400.0        0        0        1        0        0        0   \n",
       "3     13.49    10000.0        0        0        1        0        0        0   \n",
       "4     12.69     3000.0        0        1        0        0        0        0   \n",
       "\n",
       "   default  high_rate  \n",
       "0        0        0.0  \n",
       "1        1        1.0  \n",
       "2        0        1.0  \n",
       "3        0        0.0  \n",
       "4        0        0.0  "
      ]
     },
     "execution_count": 2,
     "metadata": {},
     "output_type": "execute_result"
    }
   ],
   "source": [
    "# lending club data\n",
    "df = pd.read_csv('../data_offline/LoanStats3a_clean.csv')\n",
    "cutoff = 14\n",
    "df.loc[df['int_rate']>14,'high_rate'] = 1\n",
    "df.loc[df['int_rate']<=14,'high_rate'] = 0\n",
    "df = df.drop(columns = ['title','grade_G'])\n",
    "df.head()"
   ]
  },
  {
   "cell_type": "code",
   "execution_count": 3,
   "metadata": {},
   "outputs": [
    {
     "data": {
      "text/plain": [
       "(42522, 10)"
      ]
     },
     "execution_count": 3,
     "metadata": {},
     "output_type": "execute_result"
    }
   ],
   "source": [
    "df.shape"
   ]
  },
  {
   "cell_type": "markdown",
   "metadata": {},
   "source": [
    "# Selection on observables"
   ]
  },
  {
   "cell_type": "code",
   "execution_count": 4,
   "metadata": {},
   "outputs": [
    {
     "data": {
      "image/png": "[encoded data removed]",
      "text/plain": [
       "<Figure size 432x288 with 1 Axes>"
      ]
     },
     "metadata": {
      "needs_background": "light"
     },
     "output_type": "display_data"
    }
   ],
   "source": [
    "# interest rate variation\n",
    "grades = [col for col in df.columns if col.startswith('grade')]\n",
    "df['grade'] = df[grades].idxmax(axis=1)\n",
    "sns.boxplot(data=df,x='grade',y='int_rate',order=grades)\n",
    "df = df.drop(columns='grade')"
   ]
  },
  {
   "cell_type": "markdown",
   "metadata": {},
   "source": [
    "# Regularisation and double selection"
   ]
  },
  {
   "cell_type": "code",
   "execution_count": 5,
   "metadata": {},
   "outputs": [],
   "source": [
    "# lasso example\n",
    "\n",
    "# data \n",
    "y = df['default']\n",
    "X = df.drop(columns=['default','int_rate']).copy()\n",
    "# no test set because this is just an example\n",
    "\n",
    "# fit lasso for different penalties, save coefficients\n",
    "pens = [10**(-k) for k in range(1,6)]\n",
    "coefs = pd.DataFrame(index=pens,columns=X.columns)\n",
    "for i,pen in enumerate(pens):\n",
    "    lasso = Lasso(alpha=pen)\n",
    "    lasso.fit(X,y)\n",
    "    coefs.iloc[i] = lasso.coef_"
   ]
  },
  {
   "cell_type": "code",
   "execution_count": 6,
   "metadata": {
    "scrolled": true
   },
   "outputs": [
    {
     "data": {
      "text/plain": [
       "Text(0, 0.5, 'coefficient')"
      ]
     },
     "execution_count": 6,
     "metadata": {},
     "output_type": "execute_result"
    },
    {
     "data": {
      "text/plain": [
       "<Figure size 1080x864 with 0 Axes>"
      ]
     },
     "metadata": {},
     "output_type": "display_data"
    },
    {
     "data": {
      "image/png": "[encoded data removed]",
      "text/plain": [
       "<Figure size 432x288 with 1 Axes>"
      ]
     },
     "metadata": {
      "needs_background": "light"
     },
     "output_type": "display_data"
    }
   ],
   "source": [
    "# plot coefficients as a function of regularisation penalty\n",
    "plt.figure(figsize=(15,12))\n",
    "coefs.plot()\n",
    "plt.xscale('log')\n",
    "plt.xlabel('regularisation penalty')\n",
    "plt.ylabel('coefficient')\n",
    "# plt.savefig('../figures/lasso_case_study.pdf')"
   ]
  },
  {
   "cell_type": "code",
   "execution_count": 7,
   "metadata": {},
   "outputs": [],
   "source": [
    "# double selection method\n",
    "\n",
    "# sample\n",
    "y = df['default']\n",
    "X = df.drop(columns=['default','int_rate'])\n",
    "\n",
    "# sample splitting\n",
    "X_train, X_test, y_train, y_test = train_test_split(X, y, test_size=0.5, random_state=42)\n",
    "\n",
    "# separate treatment w and observables x\n",
    "w_train = X_train['high_rate']\n",
    "w_test = X_test['high_rate']\n",
    "X_train = X_train.drop(columns=['high_rate'])\n",
    "X_test = X_test.drop(columns=['high_rate'])"
   ]
  },
  {
   "cell_type": "code",
   "execution_count": 8,
   "metadata": {},
   "outputs": [
    {
     "name": "stdout",
     "output_type": "stream",
     "text": [
      "variables that predict default outcome\n",
      "Index(['loan_amnt', 'grade_A', 'grade_B'], dtype='object')\n",
      "\n",
      "variables that predict high interest rate treatment\n",
      "['loan_amnt', 'grade_A', 'grade_B', 'grade_C', 'grade_D', 'grade_E']\n",
      "\n",
      "potential confounders\n",
      "['loan_amnt', 'grade_A', 'grade_B', 'loan_amnt', 'grade_A', 'grade_B', 'grade_C', 'grade_D', 'grade_E']\n",
      "\n",
      "not potential confounders\n",
      "['grade_F']\n"
     ]
    }
   ],
   "source": [
    "# shopping list\n",
    "potential_confounders = []\n",
    "\n",
    "# step 1: lasso to predict outcome from observables\n",
    "betas = Lasso(alpha=1e-2).fit(X_train,y_train).coef_ \n",
    "cols = X_train.columns[betas != 0]\n",
    "print('variables that predict default outcome')\n",
    "print(cols)\n",
    "potential_confounders.extend(cols)\n",
    "\n",
    "# step 2: lasso to predict treatment from observables\n",
    "betas = Lasso(alpha=1e-2).fit(X_train,w_train).coef_ \n",
    "cols = list(X_train.columns[betas != 0])\n",
    "print('\\nvariables that predict high interest rate treatment')\n",
    "print(cols)\n",
    "potential_confounders.extend(cols)\n",
    "\n",
    "print('\\npotential confounders')\n",
    "print(potential_confounders)\n",
    "\n",
    "print('\\nnot potential confounders')\n",
    "print([col for col in X_train.columns if col not in potential_confounders])"
   ]
  },
  {
   "cell_type": "code",
   "execution_count": 9,
   "metadata": {},
   "outputs": [
    {
     "name": "stdout",
     "output_type": "stream",
     "text": [
      "                                 OLS Regression Results                                \n",
      "=======================================================================================\n",
      "Dep. Variable:                default   R-squared (uncentered):                   0.171\n",
      "Model:                            OLS   Adj. R-squared (uncentered):              0.170\n",
      "Method:                 Least Squares   F-statistic:                              625.1\n",
      "Date:                Tue, 30 May 2023   Prob (F-statistic):                        0.00\n",
      "Time:                        17:52:14   Log-Likelihood:                         -8013.4\n",
      "No. Observations:               21261   AIC:                                  1.604e+04\n",
      "Df Residuals:                   21254   BIC:                                  1.610e+04\n",
      "Df Model:                           7                                                  \n",
      "Covariance Type:            nonrobust                                                  \n",
      "==============================================================================\n",
      "                 coef    std err          t      P>|t|      [0.025      0.975]\n",
      "------------------------------------------------------------------------------\n",
      "grade_E        0.0999      0.012      8.421      0.000       0.077       0.123\n",
      "loan_amnt   1.284e-06   3.21e-07      3.997      0.000    6.55e-07    1.91e-06\n",
      "grade_C        0.1229      0.006     19.383      0.000       0.110       0.135\n",
      "grade_B        0.1075      0.006     18.818      0.000       0.096       0.119\n",
      "grade_A        0.0483      0.006      8.536      0.000       0.037       0.059\n",
      "grade_D        0.0720      0.010      7.251      0.000       0.053       0.091\n",
      "high_rate      0.1434      0.009     16.815      0.000       0.127       0.160\n",
      "==============================================================================\n",
      "Omnibus:                     6510.568   Durbin-Watson:                   1.987\n",
      "Prob(Omnibus):                  0.000   Jarque-Bera (JB):            14556.678\n",
      "Skew:                           1.840   Prob(JB):                         0.00\n",
      "Kurtosis:                       4.700   Cond. No.                     8.40e+04\n",
      "==============================================================================\n",
      "\n",
      "Notes:\n",
      "[1] R² is computed without centering (uncentered) since the model does not contain a constant.\n",
      "[2] Standard Errors assume that the covariance matrix of the errors is correctly specified.\n",
      "[3] The condition number is large, 8.4e+04. This might indicate that there are\n",
      "strong multicollinearity or other numerical problems.\n"
     ]
    }
   ],
   "source": [
    "# step 4: run final model spec\n",
    "\n",
    "# do this on test sample\n",
    "# include potential confounders and treatment\n",
    "X_OLS = X_test[list(set(potential_confounders))].join(w_test)\n",
    "y_OLS = y_test\n",
    "\n",
    "# fit unpenalised regression (statsmodels better than sklearn for this)\n",
    "mod = sm.OLS(y_OLS,X_OLS)\n",
    "res = mod.fit()\n",
    "print(res.summary())"
   ]
  },
  {
   "cell_type": "markdown",
   "metadata": {},
   "source": [
    "# Nuisance parameters and transformed outcomes"
   ]
  },
  {
   "cell_type": "code",
   "execution_count": 10,
   "metadata": {},
   "outputs": [],
   "source": [
    "# transformed outcome tree\n",
    "\n",
    "# sample\n",
    "y = df['default']\n",
    "X = df.drop(columns=['default','int_rate'])\n",
    "\n",
    "# sample splitting\n",
    "X_train, X_test, y_train, y_test = train_test_split(X, y, test_size=0.5, random_state=42)\n",
    "\n",
    "# separate treatment w and observables x\n",
    "w_train = X_train['high_rate']\n",
    "w_test = X_test['high_rate']\n",
    "X_train = X_train.drop(columns=['high_rate'])\n",
    "X_test = X_test.drop(columns=['high_rate'])\n",
    "\n",
    "# get propensity scores on training data using logistic regression\n",
    "logit = LogisticRegression().fit(X_train,w_train)\n",
    "ps_train = logit.predict_proba(X_train)[:,1]\n",
    "ps_test = logit.predict_proba(X_test)[:,1]"
   ]
  },
  {
   "cell_type": "code",
   "execution_count": 11,
   "metadata": {},
   "outputs": [
    {
     "data": {
      "text/plain": [
       "array([0.01484114, 0.01394112, 0.02411414, ..., 0.75532994, 0.08735517,\n",
       "       0.26587198])"
      ]
     },
     "execution_count": 11,
     "metadata": {},
     "output_type": "execute_result"
    }
   ],
   "source": [
    "ps_train"
   ]
  },
  {
   "cell_type": "code",
   "execution_count": 12,
   "metadata": {},
   "outputs": [],
   "source": [
    "import os\n",
    "os.environ[\"PATH\"] += os.pathsep + '/opt/local/bin'"
   ]
  },
  {
   "cell_type": "code",
   "execution_count": 13,
   "metadata": {},
   "outputs": [
    {
     "data": {
      "image/svg+xml": [
       "<svg xmlns=\"http://www.w3.org/2000/svg\" xmlns:xlink=\"http://www.w3.org/1999/xlink\" width=\"492pt\" height=\"269pt\" viewBox=\"0.00 0.00 491.50 269.00\">\n",
       "<g id=\"graph0\" class=\"graph\" transform=\"scale(1 1) rotate(0) translate(4 265)\">\n",
       "<title>Tree</title>\n",
       "<polygon fill=\"white\" stroke=\"transparent\" points=\"-4,4 -4,-265 487.5,-265 487.5,4 -4,4\"/>\n",
       "<!-- 0 -->\n",
       "<g id=\"node1\" class=\"node\">\n",
       "<title>0</title>\n",
       "<polygon fill=\"#eead7e\" stroke=\"black\" points=\"304,-261 193,-261 193,-193 304,-193 304,-261\"/>\n",
       "<text text-anchor=\"middle\" x=\"248.5\" y=\"-245.8\" font-family=\"Times,serif\" font-size=\"14.00\">grade_B &lt;= 0.5</text>\n",
       "<text text-anchor=\"middle\" x=\"248.5\" y=\"-230.8\" font-family=\"Times,serif\" font-size=\"14.00\">mse = 2.112</text>\n",
       "<text text-anchor=\"middle\" x=\"248.5\" y=\"-215.8\" font-family=\"Times,serif\" font-size=\"14.00\">samples = 21261</text>\n",
       "<text text-anchor=\"middle\" x=\"248.5\" y=\"-200.8\" font-family=\"Times,serif\" font-size=\"14.00\">value = 0.079</text>\n",
       "</g>\n",
       "<!-- 1 -->\n",
       "<g id=\"node2\" class=\"node\">\n",
       "<title>1</title>\n",
       "<polygon fill=\"#ea9a61\" stroke=\"black\" points=\"231,-157 120,-157 120,-89 231,-89 231,-157\"/>\n",
       "<text text-anchor=\"middle\" x=\"175.5\" y=\"-141.8\" font-family=\"Times,serif\" font-size=\"14.00\">grade_A &lt;= 0.5</text>\n",
       "<text text-anchor=\"middle\" x=\"175.5\" y=\"-126.8\" font-family=\"Times,serif\" font-size=\"14.00\">mse = 2.892</text>\n",
       "<text text-anchor=\"middle\" x=\"175.5\" y=\"-111.8\" font-family=\"Times,serif\" font-size=\"14.00\">samples = 15125</text>\n",
       "<text text-anchor=\"middle\" x=\"175.5\" y=\"-96.8\" font-family=\"Times,serif\" font-size=\"14.00\">value = 0.165</text>\n",
       "</g>\n",
       "<!-- 0&#45;&gt;1 -->\n",
       "<g id=\"edge1\" class=\"edge\">\n",
       "<title>0-&gt;1</title>\n",
       "<path fill=\"none\" stroke=\"black\" d=\"M224.8,-192.88C218.55,-184.15 211.73,-174.62 205.21,-165.51\"/>\n",
       "<polygon fill=\"black\" stroke=\"black\" points=\"208,-163.39 199.33,-157.3 202.31,-167.47 208,-163.39\"/>\n",
       "<text text-anchor=\"middle\" x=\"195.24\" y=\"-178.26\" font-family=\"Times,serif\" font-size=\"14.00\">True</text>\n",
       "</g>\n",
       "<!-- 4 -->\n",
       "<g id=\"node5\" class=\"node\">\n",
       "<title>4</title>\n",
       "<polygon fill=\"#f8dbc7\" stroke=\"black\" points=\"393.5,-157 249.5,-157 249.5,-89 393.5,-89 393.5,-157\"/>\n",
       "<text text-anchor=\"middle\" x=\"321.5\" y=\"-141.8\" font-family=\"Times,serif\" font-size=\"14.00\">loan_amnt &lt;= 29437.5</text>\n",
       "<text text-anchor=\"middle\" x=\"321.5\" y=\"-126.8\" font-family=\"Times,serif\" font-size=\"14.00\">mse = 0.126</text>\n",
       "<text text-anchor=\"middle\" x=\"321.5\" y=\"-111.8\" font-family=\"Times,serif\" font-size=\"14.00\">samples = 6136</text>\n",
       "<text text-anchor=\"middle\" x=\"321.5\" y=\"-96.8\" font-family=\"Times,serif\" font-size=\"14.00\">value = -0.131</text>\n",
       "</g>\n",
       "<!-- 0&#45;&gt;4 -->\n",
       "<g id=\"edge4\" class=\"edge\">\n",
       "<title>0-&gt;4</title>\n",
       "<path fill=\"none\" stroke=\"black\" d=\"M272.2,-192.88C278.45,-184.15 285.27,-174.62 291.79,-165.51\"/>\n",
       "<polygon fill=\"black\" stroke=\"black\" points=\"294.69,-167.47 297.67,-157.3 289,-163.39 294.69,-167.47\"/>\n",
       "<text text-anchor=\"middle\" x=\"301.76\" y=\"-178.26\" font-family=\"Times,serif\" font-size=\"14.00\">False</text>\n",
       "</g>\n",
       "<!-- 2 -->\n",
       "<g id=\"node3\" class=\"node\">\n",
       "<title>2</title>\n",
       "<polygon fill=\"#e58139\" stroke=\"black\" points=\"111,-53 0,-53 0,0 111,0 111,-53\"/>\n",
       "<text text-anchor=\"middle\" x=\"55.5\" y=\"-37.8\" font-family=\"Times,serif\" font-size=\"14.00\">mse = 4.287</text>\n",
       "<text text-anchor=\"middle\" x=\"55.5\" y=\"-22.8\" font-family=\"Times,serif\" font-size=\"14.00\">samples = 10040</text>\n",
       "<text text-anchor=\"middle\" x=\"55.5\" y=\"-7.8\" font-family=\"Times,serif\" font-size=\"14.00\">value = 0.28</text>\n",
       "</g>\n",
       "<!-- 1&#45;&gt;2 -->\n",
       "<g id=\"edge2\" class=\"edge\">\n",
       "<title>1-&gt;2</title>\n",
       "<path fill=\"none\" stroke=\"black\" d=\"M133.53,-88.95C121.45,-79.43 108.29,-69.07 96.28,-59.62\"/>\n",
       "<polygon fill=\"black\" stroke=\"black\" points=\"98.2,-56.67 88.18,-53.24 93.87,-62.17 98.2,-56.67\"/>\n",
       "</g>\n",
       "<!-- 3 -->\n",
       "<g id=\"node4\" class=\"node\">\n",
       "<title>3</title>\n",
       "<polygon fill=\"#f5ccaf\" stroke=\"black\" points=\"233.5,-53 129.5,-53 129.5,0 233.5,0 233.5,-53\"/>\n",
       "<text text-anchor=\"middle\" x=\"181.5\" y=\"-37.8\" font-family=\"Times,serif\" font-size=\"14.00\">mse = 0.061</text>\n",
       "<text text-anchor=\"middle\" x=\"181.5\" y=\"-22.8\" font-family=\"Times,serif\" font-size=\"14.00\">samples = 5085</text>\n",
       "<text text-anchor=\"middle\" x=\"181.5\" y=\"-7.8\" font-family=\"Times,serif\" font-size=\"14.00\">value = -0.063</text>\n",
       "</g>\n",
       "<!-- 1&#45;&gt;3 -->\n",
       "<g id=\"edge3\" class=\"edge\">\n",
       "<title>1-&gt;3</title>\n",
       "<path fill=\"none\" stroke=\"black\" d=\"M177.6,-88.95C178.12,-80.72 178.68,-71.85 179.22,-63.48\"/>\n",
       "<polygon fill=\"black\" stroke=\"black\" points=\"182.73,-63.44 179.87,-53.24 175.74,-62.99 182.73,-63.44\"/>\n",
       "</g>\n",
       "<!-- 5 -->\n",
       "<g id=\"node6\" class=\"node\">\n",
       "<title>5</title>\n",
       "<polygon fill=\"#f7dac5\" stroke=\"black\" points=\"367.5,-53 263.5,-53 263.5,0 367.5,0 367.5,-53\"/>\n",
       "<text text-anchor=\"middle\" x=\"315.5\" y=\"-37.8\" font-family=\"Times,serif\" font-size=\"14.00\">mse = 0.117</text>\n",
       "<text text-anchor=\"middle\" x=\"315.5\" y=\"-22.8\" font-family=\"Times,serif\" font-size=\"14.00\">samples = 6007</text>\n",
       "<text text-anchor=\"middle\" x=\"315.5\" y=\"-7.8\" font-family=\"Times,serif\" font-size=\"14.00\">value = -0.128</text>\n",
       "</g>\n",
       "<!-- 4&#45;&gt;5 -->\n",
       "<g id=\"edge5\" class=\"edge\">\n",
       "<title>4-&gt;5</title>\n",
       "<path fill=\"none\" stroke=\"black\" d=\"M319.4,-88.95C318.88,-80.72 318.32,-71.85 317.78,-63.48\"/>\n",
       "<polygon fill=\"black\" stroke=\"black\" points=\"321.26,-62.99 317.13,-53.24 314.27,-63.44 321.26,-62.99\"/>\n",
       "</g>\n",
       "<!-- 6 -->\n",
       "<g id=\"node7\" class=\"node\">\n",
       "<title>6</title>\n",
       "<polygon fill=\"#ffffff\" stroke=\"black\" points=\"483.5,-53 385.5,-53 385.5,0 483.5,0 483.5,-53\"/>\n",
       "<text text-anchor=\"middle\" x=\"434.5\" y=\"-37.8\" font-family=\"Times,serif\" font-size=\"14.00\">mse = 0.491</text>\n",
       "<text text-anchor=\"middle\" x=\"434.5\" y=\"-22.8\" font-family=\"Times,serif\" font-size=\"14.00\">samples = 129</text>\n",
       "<text text-anchor=\"middle\" x=\"434.5\" y=\"-7.8\" font-family=\"Times,serif\" font-size=\"14.00\">value = -0.294</text>\n",
       "</g>\n",
       "<!-- 4&#45;&gt;6 -->\n",
       "<g id=\"edge6\" class=\"edge\">\n",
       "<title>4-&gt;6</title>\n",
       "<path fill=\"none\" stroke=\"black\" d=\"M361.02,-88.95C372.29,-79.53 384.55,-69.27 395.77,-59.89\"/>\n",
       "<polygon fill=\"black\" stroke=\"black\" points=\"398.3,-62.34 403.72,-53.24 393.81,-56.97 398.3,-62.34\"/>\n",
       "</g>\n",
       "</g>\n",
       "</svg>"
      ],
      "text/plain": [
       "<IPython.core.display.SVG object>"
      ]
     },
     "metadata": {},
     "output_type": "display_data"
    },
    {
     "data": {
      "text/plain": [
       "Text(0, 0.5, 'treatment effect tau(x)')"
      ]
     },
     "execution_count": 13,
     "metadata": {},
     "output_type": "execute_result"
    },
    {
     "data": {
      "image/png": "[encoded data removed]",
      "text/plain": [
       "<Figure size 1080x360 with 1 Axes>"
      ]
     },
     "metadata": {
      "needs_background": "light"
     },
     "output_type": "display_data"
    }
   ],
   "source": [
    "# transformed outcome on training and test data\n",
    "ystar_train = (w_train - ps_train) / (ps_train * (1-ps_train)) * y_train\n",
    "ystar_test = (w_test - ps_test) / (ps_test * (1-ps_test)) * y_test\n",
    "\n",
    "# tree to predict transformed outcomes \n",
    "tree = DecisionTreeRegressor(max_depth = 2)\n",
    "tree.fit(X_train,ystar_train)\n",
    "\n",
    "# visualise tree\n",
    "graph = Source(export_graphviz(tree, out_file=None, feature_names=X_train.columns, filled = True))\n",
    "display(SVG(graph.pipe(format='svg')))\n",
    "\n",
    "# visualise predictions on each node in test data\n",
    "leaves = tree.apply(X_test)\n",
    "yhat = tree.predict(X_test)\n",
    "plt.figure(figsize=(15,5))\n",
    "s = sns.pointplot(y = yhat, x = leaves,ci=95)\n",
    "s = s.set_xticklabels(['Node %d' %(d+1) for d in range(4)])\n",
    "plt.ylabel('treatment effect tau(x)')"
   ]
  },
  {
   "cell_type": "code",
   "execution_count": 14,
   "metadata": {},
   "outputs": [
    {
     "data": {
      "image/svg+xml": [
       "<svg xmlns=\"http://www.w3.org/2000/svg\" xmlns:xlink=\"http://www.w3.org/1999/xlink\" width=\"565pt\" height=\"269pt\" viewBox=\"0.00 0.00 565.00 269.00\">\n",
       "<g id=\"graph0\" class=\"graph\" transform=\"scale(1 1) rotate(0) translate(4 265)\">\n",
       "<title>Tree</title>\n",
       "<polygon fill=\"white\" stroke=\"transparent\" points=\"-4,4 -4,-265 561,-265 561,4 -4,4\"/>\n",
       "<!-- 0 -->\n",
       "<g id=\"node1\" class=\"node\">\n",
       "<title>0</title>\n",
       "<polygon fill=\"#ea985d\" stroke=\"black\" points=\"362.5,-261 221.5,-261 221.5,-193 362.5,-193 362.5,-261\"/>\n",
       "<text text-anchor=\"middle\" x=\"292\" y=\"-245.8\" font-family=\"Times,serif\" font-size=\"14.00\">grade_A &lt;= 0.5</text>\n",
       "<text text-anchor=\"middle\" x=\"292\" y=\"-230.8\" font-family=\"Times,serif\" font-size=\"14.00\">gini = 0.258</text>\n",
       "<text text-anchor=\"middle\" x=\"292\" y=\"-215.8\" font-family=\"Times,serif\" font-size=\"14.00\">samples = 21261</text>\n",
       "<text text-anchor=\"middle\" x=\"292\" y=\"-200.8\" font-family=\"Times,serif\" font-size=\"14.00\">value = [18023, 3238]</text>\n",
       "</g>\n",
       "<!-- 1 -->\n",
       "<g id=\"node2\" class=\"node\">\n",
       "<title>1</title>\n",
       "<polygon fill=\"#eb9d65\" stroke=\"black\" points=\"282.5,-157 141.5,-157 141.5,-89 282.5,-89 282.5,-157\"/>\n",
       "<text text-anchor=\"middle\" x=\"212\" y=\"-141.8\" font-family=\"Times,serif\" font-size=\"14.00\">grade_B &lt;= 0.5</text>\n",
       "<text text-anchor=\"middle\" x=\"212\" y=\"-126.8\" font-family=\"Times,serif\" font-size=\"14.00\">gini = 0.297</text>\n",
       "<text text-anchor=\"middle\" x=\"212\" y=\"-111.8\" font-family=\"Times,serif\" font-size=\"14.00\">samples = 16176</text>\n",
       "<text text-anchor=\"middle\" x=\"212\" y=\"-96.8\" font-family=\"Times,serif\" font-size=\"14.00\">value = [13246, 2930]</text>\n",
       "</g>\n",
       "<!-- 0&#45;&gt;1 -->\n",
       "<g id=\"edge1\" class=\"edge\">\n",
       "<title>0-&gt;1</title>\n",
       "<path fill=\"none\" stroke=\"black\" d=\"M266.03,-192.88C259.11,-184.07 251.55,-174.43 244.34,-165.24\"/>\n",
       "<polygon fill=\"black\" stroke=\"black\" points=\"247.04,-163.01 238.12,-157.3 241.53,-167.33 247.04,-163.01\"/>\n",
       "<text text-anchor=\"middle\" x=\"235.12\" y=\"-178.42\" font-family=\"Times,serif\" font-size=\"14.00\">True</text>\n",
       "</g>\n",
       "<!-- 4 -->\n",
       "<g id=\"node5\" class=\"node\">\n",
       "<title>4</title>\n",
       "<polygon fill=\"#e78946\" stroke=\"black\" points=\"445,-157 301,-157 301,-89 445,-89 445,-157\"/>\n",
       "<text text-anchor=\"middle\" x=\"373\" y=\"-141.8\" font-family=\"Times,serif\" font-size=\"14.00\">loan_amnt &lt;= 19100.0</text>\n",
       "<text text-anchor=\"middle\" x=\"373\" y=\"-126.8\" font-family=\"Times,serif\" font-size=\"14.00\">gini = 0.114</text>\n",
       "<text text-anchor=\"middle\" x=\"373\" y=\"-111.8\" font-family=\"Times,serif\" font-size=\"14.00\">samples = 5085</text>\n",
       "<text text-anchor=\"middle\" x=\"373\" y=\"-96.8\" font-family=\"Times,serif\" font-size=\"14.00\">value = [4777, 308]</text>\n",
       "</g>\n",
       "<!-- 0&#45;&gt;4 -->\n",
       "<g id=\"edge4\" class=\"edge\">\n",
       "<title>0-&gt;4</title>\n",
       "<path fill=\"none\" stroke=\"black\" d=\"M318.3,-192.88C325.3,-184.07 332.95,-174.43 340.25,-165.24\"/>\n",
       "<polygon fill=\"black\" stroke=\"black\" points=\"343.08,-167.31 346.56,-157.3 337.6,-162.95 343.08,-167.31\"/>\n",
       "<text text-anchor=\"middle\" x=\"349.41\" y=\"-178.44\" font-family=\"Times,serif\" font-size=\"14.00\">False</text>\n",
       "</g>\n",
       "<!-- 2 -->\n",
       "<g id=\"node3\" class=\"node\">\n",
       "<title>2</title>\n",
       "<polygon fill=\"#eca470\" stroke=\"black\" points=\"134,-53 0,-53 0,0 134,0 134,-53\"/>\n",
       "<text text-anchor=\"middle\" x=\"67\" y=\"-37.8\" font-family=\"Times,serif\" font-size=\"14.00\">gini = 0.339</text>\n",
       "<text text-anchor=\"middle\" x=\"67\" y=\"-22.8\" font-family=\"Times,serif\" font-size=\"14.00\">samples = 10040</text>\n",
       "<text text-anchor=\"middle\" x=\"67\" y=\"-7.8\" font-family=\"Times,serif\" font-size=\"14.00\">value = [7866, 2174]</text>\n",
       "</g>\n",
       "<!-- 1&#45;&gt;2 -->\n",
       "<g id=\"edge2\" class=\"edge\">\n",
       "<title>1-&gt;2</title>\n",
       "<path fill=\"none\" stroke=\"black\" d=\"M161.29,-88.95C146.27,-79.16 129.87,-68.48 115.03,-58.8\"/>\n",
       "<polygon fill=\"black\" stroke=\"black\" points=\"116.78,-55.76 106.49,-53.24 112.96,-61.63 116.78,-55.76\"/>\n",
       "</g>\n",
       "<!-- 3 -->\n",
       "<g id=\"node4\" class=\"node\">\n",
       "<title>3</title>\n",
       "<polygon fill=\"#e99355\" stroke=\"black\" points=\"279.5,-53 152.5,-53 152.5,0 279.5,0 279.5,-53\"/>\n",
       "<text text-anchor=\"middle\" x=\"216\" y=\"-37.8\" font-family=\"Times,serif\" font-size=\"14.00\">gini = 0.216</text>\n",
       "<text text-anchor=\"middle\" x=\"216\" y=\"-22.8\" font-family=\"Times,serif\" font-size=\"14.00\">samples = 6136</text>\n",
       "<text text-anchor=\"middle\" x=\"216\" y=\"-7.8\" font-family=\"Times,serif\" font-size=\"14.00\">value = [5380, 756]</text>\n",
       "</g>\n",
       "<!-- 1&#45;&gt;3 -->\n",
       "<g id=\"edge3\" class=\"edge\">\n",
       "<title>1-&gt;3</title>\n",
       "<path fill=\"none\" stroke=\"black\" d=\"M213.4,-88.95C213.75,-80.72 214.12,-71.85 214.48,-63.48\"/>\n",
       "<polygon fill=\"black\" stroke=\"black\" points=\"217.98,-63.38 214.91,-53.24 210.99,-63.08 217.98,-63.38\"/>\n",
       "</g>\n",
       "<!-- 5 -->\n",
       "<g id=\"node6\" class=\"node\">\n",
       "<title>5</title>\n",
       "<polygon fill=\"#e78946\" stroke=\"black\" points=\"432.5,-53 305.5,-53 305.5,0 432.5,0 432.5,-53\"/>\n",
       "<text text-anchor=\"middle\" x=\"369\" y=\"-37.8\" font-family=\"Times,serif\" font-size=\"14.00\">gini = 0.117</text>\n",
       "<text text-anchor=\"middle\" x=\"369\" y=\"-22.8\" font-family=\"Times,serif\" font-size=\"14.00\">samples = 4853</text>\n",
       "<text text-anchor=\"middle\" x=\"369\" y=\"-7.8\" font-family=\"Times,serif\" font-size=\"14.00\">value = [4550, 303]</text>\n",
       "</g>\n",
       "<!-- 4&#45;&gt;5 -->\n",
       "<g id=\"edge5\" class=\"edge\">\n",
       "<title>4-&gt;5</title>\n",
       "<path fill=\"none\" stroke=\"black\" d=\"M371.6,-88.95C371.25,-80.72 370.88,-71.85 370.52,-63.48\"/>\n",
       "<polygon fill=\"black\" stroke=\"black\" points=\"374.01,-63.08 370.09,-53.24 367.02,-63.38 374.01,-63.08\"/>\n",
       "</g>\n",
       "<!-- 6 -->\n",
       "<g id=\"node7\" class=\"node\">\n",
       "<title>6</title>\n",
       "<polygon fill=\"#e6843d\" stroke=\"black\" points=\"557,-53 451,-53 451,0 557,0 557,-53\"/>\n",
       "<text text-anchor=\"middle\" x=\"504\" y=\"-37.8\" font-family=\"Times,serif\" font-size=\"14.00\">gini = 0.042</text>\n",
       "<text text-anchor=\"middle\" x=\"504\" y=\"-22.8\" font-family=\"Times,serif\" font-size=\"14.00\">samples = 232</text>\n",
       "<text text-anchor=\"middle\" x=\"504\" y=\"-7.8\" font-family=\"Times,serif\" font-size=\"14.00\">value = [227, 5]</text>\n",
       "</g>\n",
       "<!-- 4&#45;&gt;6 -->\n",
       "<g id=\"edge6\" class=\"edge\">\n",
       "<title>4-&gt;6</title>\n",
       "<path fill=\"none\" stroke=\"black\" d=\"M418.82,-88.95C432.13,-79.34 446.64,-68.87 459.86,-59.34\"/>\n",
       "<polygon fill=\"black\" stroke=\"black\" points=\"462.26,-61.93 468.32,-53.24 458.16,-56.25 462.26,-61.93\"/>\n",
       "</g>\n",
       "</g>\n",
       "</svg>"
      ],
      "text/plain": [
       "<IPython.core.display.SVG object>"
      ]
     },
     "metadata": {},
     "output_type": "display_data"
    }
   ],
   "source": [
    "# for comparison: standard tree\n",
    "# fit model and specify max depth\n",
    "tree = DecisionTreeClassifier(max_depth = 2)\n",
    "tree.fit(X_train,y_train)\n",
    "\n",
    "# visualise tree\n",
    "graph = Source(export_graphviz(tree, out_file=None, feature_names=X_train.columns, filled = True))\n",
    "display(SVG(graph.pipe(format='svg')))"
   ]
  },
  {
   "cell_type": "code",
   "execution_count": null,
   "metadata": {},
   "outputs": [],
   "source": []
  }
 ],
 "metadata": {
  "kernelspec": {
   "display_name": "Python 3 (ipykernel)",
   "language": "python",
   "name": "python3"
  },
  "language_info": {
   "codemirror_mode": {
    "name": "ipython",
    "version": 3
   },
   "file_extension": ".py",
   "mimetype": "text/x-python",
   "name": "python",
   "nbconvert_exporter": "python",
   "pygments_lexer": "ipython3",
   "version": "3.8.8"
  }
 },
 "nbformat": 4,
 "nbformat_minor": 2
}
