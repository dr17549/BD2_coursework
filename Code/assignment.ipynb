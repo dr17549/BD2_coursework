{
 "cells": [
  {
   "cell_type": "code",
   "execution_count": 1,
   "metadata": {},
   "outputs": [],
   "source": [
    "import pandas as pd\n",
    "import numpy as np\n",
    "import matplotlib.pyplot as plt\n",
    "\n",
    "panel = pd.read_pickle('../Data/returns_chars_panel.pkl') \n",
    "macro = pd.read_pickle('../Data/macro_timeseries.pkl')"
   ]
  },
  {
   "cell_type": "code",
   "execution_count": 2,
   "metadata": {},
   "outputs": [
    {
     "name": "stdout",
     "output_type": "stream",
     "text": [
      "                     count           min           50%           max\n",
      "permno           3739449.0  10000.000000  61778.000000  93436.000000\n",
      "excess_ret       3739449.0     -1.012517     -0.003450     23.996800\n",
      "ret              3739449.0     -1.000000      0.000000     24.000000\n",
      "rfree            3739449.0      0.000008      0.004117      0.013583\n",
      "mvel1            3739449.0     -0.999781      0.001033      1.000000\n",
      "beta             3739449.0     -0.999195      0.000000      1.000000\n",
      "betasq           3739449.0     -0.999755      0.000000      1.000000\n",
      "chmom            3739449.0     -0.999200      0.000000      1.000000\n",
      "dolvol           3739449.0     -0.999777      0.000000      1.000000\n",
      "idiovol          3739449.0     -0.999755      0.000000      1.000000\n",
      "indmom           3739449.0     -0.999291      0.000000      1.000000\n",
      "mom1m            3739449.0     -0.999191      0.000000      1.000000\n",
      "mom6m            3739449.0     -0.999185      0.000000      1.000000\n",
      "mom12m           3739449.0     -0.999195      0.000000      1.000000\n",
      "mom36m           3739449.0     -0.999109      0.000000      1.000000\n",
      "pricedelay       3739449.0     -0.999195      0.000000      1.000000\n",
      "turn             3739449.0     -0.999776      0.000000      1.000000\n",
      "absacc           3739449.0     -0.999687      0.000000      1.000000\n",
      "acc              3739449.0     -0.999442      0.000000      1.000000\n",
      "age              3739449.0     -0.982802      0.000000      1.000000\n",
      "agr              3739449.0     -0.999436      0.000000      1.000000\n",
      "bm               3739449.0     -0.999445      0.000000      1.000000\n",
      "bm_ia            3739449.0     -0.999445      0.000000      1.000000\n",
      "cashdebt         3739449.0     -0.999736      0.000000      1.000000\n",
      "cashpr           3739449.0     -0.999445      0.000000      1.000000\n",
      "cfp              3739449.0     -0.999434      0.000000      1.000000\n",
      "cfp_ia           3739449.0     -0.999434      0.000000      1.000000\n",
      "chatoia          3739449.0     -0.999395      0.000000      1.000000\n",
      "chcsho           3739449.0     -0.999414      0.000000      1.000000\n",
      "chempia          3739449.0     -0.999413      0.000000      1.000000\n",
      "chinv            3739449.0     -0.999394      0.000000      1.000000\n",
      "chpmia           3739449.0     -0.999434      0.000000      1.000000\n",
      "convind          3739449.0     -0.304734     -0.103268      1.000000\n",
      "currat           3739449.0     -0.999497      0.000000      1.000000\n",
      "depr             3739449.0     -0.999731      0.000000      1.000000\n",
      "divi             3739449.0     -0.050678     -0.024759      1.000000\n",
      "divo             3739449.0     -0.049760     -0.024525      1.000000\n",
      "dy               3739449.0     -0.999741      0.000000      1.000000\n",
      "egr              3739449.0     -0.999435      0.000000      1.000000\n",
      "ep               3739449.0     -0.999448      0.000000      1.000000\n",
      "gma              3739449.0     -0.999434      0.000000      1.000000\n",
      "grcapx           3739449.0     -0.999461      0.000000      1.000000\n",
      "grltnoa          3739449.0     -0.999342      0.000000      1.000000\n",
      "herf             3739449.0     -0.999715      0.000000      1.000000\n",
      "hire             3739449.0     -0.999433      0.000000      1.000000\n",
      "invest           3739449.0     -0.999392      0.000000      1.000000\n",
      "lev              3739449.0     -0.999743      0.000000      1.000000\n",
      "lgr              3739449.0     -0.999425      0.000000      1.000000\n",
      "mve_ia           3739449.0     -0.999448      0.000000      1.000000\n",
      "operprof         3739449.0     -0.999427      0.000000      1.000000\n",
      "orgcap           3739449.0     -0.999623      0.000000      1.000000\n",
      "pchcapx_ia       3739449.0     -0.999496      0.000000      1.000000\n",
      "pchcurrat        3739449.0     -0.999434      0.000000      1.000000\n",
      "pchdepr          3739449.0     -0.999465      0.000000      1.000000\n",
      "pchgm_pchsale    3739449.0     -0.999434      0.000000      1.000000\n",
      "pchquick         3739449.0     -0.999432      0.000000      1.000000\n",
      "pchsale_pchinvt  3739449.0     -0.999420      0.000000      1.000000\n",
      "pchsale_pchrect  3739449.0     -0.999477      0.000000      1.000000\n",
      "pchsale_pchxsga  3739449.0     -0.999415      0.000000      1.000000\n",
      "pchsaleinv       3739449.0     -0.999618      0.000000      1.000000\n",
      "pctacc           3739449.0     -0.999437      0.000000      1.000000\n",
      "ps               3739449.0     -0.998832      0.000000      1.000000\n",
      "quick            3739449.0     -0.999495      0.000000      1.000000\n",
      "rd               3739449.0     -0.203062     -0.108675      1.000000\n",
      "rd_mve           3739449.0     -0.999312      0.000000      1.000000\n",
      "rd_sale          3739449.0     -0.999314      0.000000      1.000000\n",
      "realestate       3739449.0     -0.970735      0.000000      1.000000\n",
      "roic             3739449.0     -0.998621      0.000000      1.000000\n",
      "salecash         3739449.0     -0.999741      0.000000      1.000000\n",
      "saleinv          3739449.0     -0.999636      0.000000      1.000000\n",
      "salerec          3739449.0     -0.999735      0.000000      1.000000\n",
      "secured          3739449.0     -0.874725      0.000000      1.000000\n",
      "securedind       3739449.0     -0.585295      0.000000      1.000000\n",
      "sgr              3739449.0     -0.999434      0.000000      1.000000\n",
      "sin              3739449.0     -0.040000     -0.007553      1.000000\n",
      "sp               3739449.0     -0.999743      0.000000      1.000000\n",
      "tang             3739449.0     -0.999731      0.000000      1.000000\n",
      "tb               3739449.0     -0.999388      0.000000      1.000000\n",
      "aeavol           3739449.0     -0.999192      0.000000      1.000000\n",
      "cash             3739449.0     -0.999707      0.000000      1.000000\n",
      "chtx             3739449.0     -0.999166      0.000000      1.000000\n",
      "cinvest          3739449.0     -0.999334      0.000000      1.000000\n",
      "ear              3739449.0     -0.999210      0.000000      1.000000\n",
      "nincr            3739449.0     -0.715652      0.000000      1.000000\n",
      "roaq             3739449.0     -0.999229      0.000000      1.000000\n",
      "roavol           3739449.0     -0.999629      0.000000      1.000000\n",
      "roeq             3739449.0     -0.999173      0.000000      1.000000\n",
      "rsup             3739449.0     -0.999219      0.000000      1.000000\n",
      "stdacc           3739449.0     -0.999532      0.000000      1.000000\n",
      "stdcf            3739449.0     -0.999532      0.000000      1.000000\n",
      "ms               3739449.0     -0.997260      0.000000      1.000000\n",
      "baspread         3739449.0     -0.999781      0.000000      1.000000\n",
      "ill              3739449.0     -0.999780      0.000000      1.000000\n",
      "maxret           3739449.0     -0.999141      0.000000      1.000000\n",
      "retvol           3739449.0     -0.999780      0.000000      1.000000\n",
      "std_dolvol       3739449.0     -0.999781      0.000000      1.000000\n",
      "std_turn         3739449.0     -0.999761      0.000000      1.000000\n",
      "zerotrade        3739449.0     -0.999781      0.000000      1.000000\n"
     ]
    }
   ],
   "source": [
    "pd.set_option('display.max_rows', None)\n",
    "panel_descriptives = panel.describe()\n",
    "print(panel_descriptives.T[['count','min','50%','max']])"
   ]
  },
  {
   "cell_type": "code",
   "execution_count": 5,
   "metadata": {},
   "outputs": [],
   "source": [
    "# combine micro and macro data\n",
    "df = pd.merge(panel,macro,on='date',how='left',suffixes=['','_macro']) \n",
    "\n",
    "# features + targets \n",
    "X = df.drop(columns=['ret','excess_ret','rfree','permno','date']) # everything except return info and IDs\n",
    "y = df['excess_ret'] "
   ]
  },
  {
   "cell_type": "markdown",
   "metadata": {},
   "source": [
    "# Split Train Test "
   ]
  },
  {
   "cell_type": "code",
   "execution_count": 7,
   "metadata": {},
   "outputs": [],
   "source": [
    "# make 20 years of training data\n",
    "date = df['date']\n",
    "training = (date <= '1977-03') # selects \n",
    "X_train, y_train = X.loc[training].values, y.loc[training].values \n",
    "\n",
    "# make 10 years of validation data\n",
    "validation = (date > '1977-03') & (date <= '1987-03') \n",
    "X_val, y_val = X.loc[validation].values, y.loc[validation].values \n",
    "\n",
    "# make test data\n",
    "test = (date > '1987-03') \n",
    "X_test, y_test = X.loc[test].values, y.loc[test].values "
   ]
  },
  {
   "cell_type": "markdown",
   "metadata": {},
   "source": [
    "# 1 Neural Network "
   ]
  },
  {
   "cell_type": "code",
   "execution_count": 8,
   "metadata": {},
   "outputs": [
    {
     "name": "stderr",
     "output_type": "stream",
     "text": [
      "/Users/dhammatornriewcharoon/anaconda3/lib/python3.11/site-packages/keras/src/layers/core/dense.py:87: UserWarning: Do not pass an `input_shape`/`input_dim` argument to a layer. When using Sequential models, prefer using an `Input(shape)` object as the first layer in the model instead.\n",
      "  super().__init__(activity_regularizer=activity_regularizer, **kwargs)\n"
     ]
    },
    {
     "data": {
      "text/html": [
       "<pre style=\"white-space:pre;overflow-x:auto;line-height:normal;font-family:Menlo,'DejaVu Sans Mono',consolas,'Courier New',monospace\"><span style=\"font-weight: bold\">Model: \"sequential\"</span>\n",
       "</pre>\n"
      ],
      "text/plain": [
       "\u001b[1mModel: \"sequential\"\u001b[0m\n"
      ]
     },
     "metadata": {},
     "output_type": "display_data"
    },
    {
     "data": {
      "text/html": [
       "<pre style=\"white-space:pre;overflow-x:auto;line-height:normal;font-family:Menlo,'DejaVu Sans Mono',consolas,'Courier New',monospace\">┏━━━━━━━━━━━━━━━━━━━━━━━━━━━━━━━━━┳━━━━━━━━━━━━━━━━━━━━━━━━┳━━━━━━━━━━━━━━━┓\n",
       "┃<span style=\"font-weight: bold\"> Layer (type)                    </span>┃<span style=\"font-weight: bold\"> Output Shape           </span>┃<span style=\"font-weight: bold\">       Param # </span>┃\n",
       "┡━━━━━━━━━━━━━━━━━━━━━━━━━━━━━━━━━╇━━━━━━━━━━━━━━━━━━━━━━━━╇━━━━━━━━━━━━━━━┩\n",
       "│ dense (<span style=\"color: #0087ff; text-decoration-color: #0087ff\">Dense</span>)                   │ (<span style=\"color: #00d7ff; text-decoration-color: #00d7ff\">None</span>, <span style=\"color: #00af00; text-decoration-color: #00af00\">32</span>)             │         <span style=\"color: #00af00; text-decoration-color: #00af00\">3,392</span> │\n",
       "├─────────────────────────────────┼────────────────────────┼───────────────┤\n",
       "│ batch_normalization             │ (<span style=\"color: #00d7ff; text-decoration-color: #00d7ff\">None</span>, <span style=\"color: #00af00; text-decoration-color: #00af00\">32</span>)             │           <span style=\"color: #00af00; text-decoration-color: #00af00\">128</span> │\n",
       "│ (<span style=\"color: #0087ff; text-decoration-color: #0087ff\">BatchNormalization</span>)            │                        │               │\n",
       "├─────────────────────────────────┼────────────────────────┼───────────────┤\n",
       "│ dense_1 (<span style=\"color: #0087ff; text-decoration-color: #0087ff\">Dense</span>)                 │ (<span style=\"color: #00d7ff; text-decoration-color: #00d7ff\">None</span>, <span style=\"color: #00af00; text-decoration-color: #00af00\">32</span>)             │         <span style=\"color: #00af00; text-decoration-color: #00af00\">1,056</span> │\n",
       "├─────────────────────────────────┼────────────────────────┼───────────────┤\n",
       "│ batch_normalization_1           │ (<span style=\"color: #00d7ff; text-decoration-color: #00d7ff\">None</span>, <span style=\"color: #00af00; text-decoration-color: #00af00\">32</span>)             │           <span style=\"color: #00af00; text-decoration-color: #00af00\">128</span> │\n",
       "│ (<span style=\"color: #0087ff; text-decoration-color: #0087ff\">BatchNormalization</span>)            │                        │               │\n",
       "├─────────────────────────────────┼────────────────────────┼───────────────┤\n",
       "│ dense_2 (<span style=\"color: #0087ff; text-decoration-color: #0087ff\">Dense</span>)                 │ (<span style=\"color: #00d7ff; text-decoration-color: #00d7ff\">None</span>, <span style=\"color: #00af00; text-decoration-color: #00af00\">1</span>)              │            <span style=\"color: #00af00; text-decoration-color: #00af00\">33</span> │\n",
       "└─────────────────────────────────┴────────────────────────┴───────────────┘\n",
       "</pre>\n"
      ],
      "text/plain": [
       "┏━━━━━━━━━━━━━━━━━━━━━━━━━━━━━━━━━┳━━━━━━━━━━━━━━━━━━━━━━━━┳━━━━━━━━━━━━━━━┓\n",
       "┃\u001b[1m \u001b[0m\u001b[1mLayer (type)                   \u001b[0m\u001b[1m \u001b[0m┃\u001b[1m \u001b[0m\u001b[1mOutput Shape          \u001b[0m\u001b[1m \u001b[0m┃\u001b[1m \u001b[0m\u001b[1m      Param #\u001b[0m\u001b[1m \u001b[0m┃\n",
       "┡━━━━━━━━━━━━━━━━━━━━━━━━━━━━━━━━━╇━━━━━━━━━━━━━━━━━━━━━━━━╇━━━━━━━━━━━━━━━┩\n",
       "│ dense (\u001b[38;5;33mDense\u001b[0m)                   │ (\u001b[38;5;45mNone\u001b[0m, \u001b[38;5;34m32\u001b[0m)             │         \u001b[38;5;34m3,392\u001b[0m │\n",
       "├─────────────────────────────────┼────────────────────────┼───────────────┤\n",
       "│ batch_normalization             │ (\u001b[38;5;45mNone\u001b[0m, \u001b[38;5;34m32\u001b[0m)             │           \u001b[38;5;34m128\u001b[0m │\n",
       "│ (\u001b[38;5;33mBatchNormalization\u001b[0m)            │                        │               │\n",
       "├─────────────────────────────────┼────────────────────────┼───────────────┤\n",
       "│ dense_1 (\u001b[38;5;33mDense\u001b[0m)                 │ (\u001b[38;5;45mNone\u001b[0m, \u001b[38;5;34m32\u001b[0m)             │         \u001b[38;5;34m1,056\u001b[0m │\n",
       "├─────────────────────────────────┼────────────────────────┼───────────────┤\n",
       "│ batch_normalization_1           │ (\u001b[38;5;45mNone\u001b[0m, \u001b[38;5;34m32\u001b[0m)             │           \u001b[38;5;34m128\u001b[0m │\n",
       "│ (\u001b[38;5;33mBatchNormalization\u001b[0m)            │                        │               │\n",
       "├─────────────────────────────────┼────────────────────────┼───────────────┤\n",
       "│ dense_2 (\u001b[38;5;33mDense\u001b[0m)                 │ (\u001b[38;5;45mNone\u001b[0m, \u001b[38;5;34m1\u001b[0m)              │            \u001b[38;5;34m33\u001b[0m │\n",
       "└─────────────────────────────────┴────────────────────────┴───────────────┘\n"
      ]
     },
     "metadata": {},
     "output_type": "display_data"
    },
    {
     "data": {
      "text/html": [
       "<pre style=\"white-space:pre;overflow-x:auto;line-height:normal;font-family:Menlo,'DejaVu Sans Mono',consolas,'Courier New',monospace\"><span style=\"font-weight: bold\"> Total params: </span><span style=\"color: #00af00; text-decoration-color: #00af00\">4,737</span> (18.50 KB)\n",
       "</pre>\n"
      ],
      "text/plain": [
       "\u001b[1m Total params: \u001b[0m\u001b[38;5;34m4,737\u001b[0m (18.50 KB)\n"
      ]
     },
     "metadata": {},
     "output_type": "display_data"
    },
    {
     "data": {
      "text/html": [
       "<pre style=\"white-space:pre;overflow-x:auto;line-height:normal;font-family:Menlo,'DejaVu Sans Mono',consolas,'Courier New',monospace\"><span style=\"font-weight: bold\"> Trainable params: </span><span style=\"color: #00af00; text-decoration-color: #00af00\">4,609</span> (18.00 KB)\n",
       "</pre>\n"
      ],
      "text/plain": [
       "\u001b[1m Trainable params: \u001b[0m\u001b[38;5;34m4,609\u001b[0m (18.00 KB)\n"
      ]
     },
     "metadata": {},
     "output_type": "display_data"
    },
    {
     "data": {
      "text/html": [
       "<pre style=\"white-space:pre;overflow-x:auto;line-height:normal;font-family:Menlo,'DejaVu Sans Mono',consolas,'Courier New',monospace\"><span style=\"font-weight: bold\"> Non-trainable params: </span><span style=\"color: #00af00; text-decoration-color: #00af00\">128</span> (512.00 B)\n",
       "</pre>\n"
      ],
      "text/plain": [
       "\u001b[1m Non-trainable params: \u001b[0m\u001b[38;5;34m128\u001b[0m (512.00 B)\n"
      ]
     },
     "metadata": {},
     "output_type": "display_data"
    },
    {
     "name": "stdout",
     "output_type": "stream",
     "text": [
      "Epoch 1/100\n",
      "\u001b[1m1188/1188\u001b[0m \u001b[32m━━━━━━━━━━━━━━━━━━━━\u001b[0m\u001b[37m\u001b[0m \u001b[1m2s\u001b[0m 1ms/step - loss: 0.1543 - mse: 0.1486 - val_loss: 0.0356 - val_mse: 0.0302\n",
      "Epoch 2/100\n",
      "\u001b[1m1188/1188\u001b[0m \u001b[32m━━━━━━━━━━━━━━━━━━━━\u001b[0m\u001b[37m\u001b[0m \u001b[1m1s\u001b[0m 1ms/step - loss: 0.0250 - mse: 0.0197 - val_loss: 0.0324 - val_mse: 0.0274\n",
      "Epoch 3/100\n",
      "\u001b[1m1188/1188\u001b[0m \u001b[32m━━━━━━━━━━━━━━━━━━━━\u001b[0m\u001b[37m\u001b[0m \u001b[1m1s\u001b[0m 1ms/step - loss: 0.0234 - mse: 0.0186 - val_loss: 0.0312 - val_mse: 0.0269\n",
      "Epoch 4/100\n",
      "\u001b[1m1188/1188\u001b[0m \u001b[32m━━━━━━━━━━━━━━━━━━━━\u001b[0m\u001b[37m\u001b[0m \u001b[1m1s\u001b[0m 1ms/step - loss: 0.0225 - mse: 0.0183 - val_loss: 0.0305 - val_mse: 0.0269\n",
      "Epoch 5/100\n",
      "\u001b[1m1188/1188\u001b[0m \u001b[32m━━━━━━━━━━━━━━━━━━━━\u001b[0m\u001b[37m\u001b[0m \u001b[1m1s\u001b[0m 1ms/step - loss: 0.0213 - mse: 0.0180 - val_loss: 0.0296 - val_mse: 0.0270\n",
      "Epoch 6/100\n",
      "\u001b[1m1188/1188\u001b[0m \u001b[32m━━━━━━━━━━━━━━━━━━━━\u001b[0m\u001b[37m\u001b[0m \u001b[1m1s\u001b[0m 1ms/step - loss: 0.0202 - mse: 0.0178 - val_loss: 0.0286 - val_mse: 0.0269\n",
      "Epoch 7/100\n",
      "\u001b[1m1188/1188\u001b[0m \u001b[32m━━━━━━━━━━━━━━━━━━━━\u001b[0m\u001b[37m\u001b[0m \u001b[1m1s\u001b[0m 1ms/step - loss: 0.0193 - mse: 0.0177 - val_loss: 0.0284 - val_mse: 0.0272\n",
      "Epoch 8/100\n",
      "\u001b[1m1188/1188\u001b[0m \u001b[32m━━━━━━━━━━━━━━━━━━━━\u001b[0m\u001b[37m\u001b[0m \u001b[1m1s\u001b[0m 1ms/step - loss: 0.0185 - mse: 0.0174 - val_loss: 0.0294 - val_mse: 0.0284\n",
      "Epoch 9/100\n",
      "\u001b[1m1188/1188\u001b[0m \u001b[32m━━━━━━━━━━━━━━━━━━━━\u001b[0m\u001b[37m\u001b[0m \u001b[1m1s\u001b[0m 1ms/step - loss: 0.0180 - mse: 0.0171 - val_loss: 0.0311 - val_mse: 0.0303\n"
     ]
    },
    {
     "data": {
      "text/plain": [
       "<matplotlib.legend.Legend at 0x3e9f6d550>"
      ]
     },
     "execution_count": 8,
     "metadata": {},
     "output_type": "execute_result"
    },
    {
     "data": {
      "image/png": "[encoded data removed]",
      "text/plain": [
       "<Figure size 1000x600 with 1 Axes>"
      ]
     },
     "metadata": {},
     "output_type": "display_data"
    }
   ],
   "source": [
    "import tensorflow as tf\n",
    "tf.random.set_seed(999)\n",
    "from tensorflow.keras.models import Sequential\n",
    "# Dense is the fully connected layer \n",
    "from tensorflow.keras.layers import Dense, BatchNormalization\n",
    "from tensorflow.keras.regularizers import L1\n",
    "from tensorflow.keras.callbacks import EarlyStopping\n",
    "\n",
    "# hypers\n",
    "batch_size = 512\n",
    "learning_rate = 1e-4\n",
    "lamda = 1e-5\n",
    "patience = 2\n",
    "\n",
    "# model architecture\n",
    "model = Sequential()\n",
    "model.add(Dense(32, input_dim=X_train.shape[1], \n",
    "                activation='relu',\n",
    "                kernel_regularizer = L1(lamda), \n",
    "                # initilizing the weight and bias with normal distribution with special condition \n",
    "                kernel_initializer = 'he_normal'))\n",
    "model.add(BatchNormalization())\n",
    "model.add(Dense(32, input_dim=X_train.shape[1], \n",
    "                activation='relu',\n",
    "                kernel_regularizer = L1(lamda), \n",
    "                # initilizing the weight and bias with normal distribution with special condition \n",
    "                kernel_initializer = 'he_normal'))\n",
    "model.add(BatchNormalization())\n",
    "# Output layer \n",
    "model.add(Dense(1, activation='linear',\n",
    "                kernel_regularizer = L1(lamda), \n",
    "                kernel_initializer = 'he_normal'))\n",
    "\n",
    "model.compile(loss='mse', \n",
    "              optimizer='Adam',\n",
    "              metrics = ['mse'])\n",
    "\n",
    "model.summary()\n",
    "\n",
    "history = model.fit(X_train, y_train, \n",
    "                    epochs=100, \n",
    "                    batch_size=batch_size, \n",
    "                    verbose=True,\n",
    "                    validation_data = (X_val, y_val),\n",
    "                    # Defined the callback to see if the validation result actually improves \n",
    "                    callbacks = [EarlyStopping(patience = patience, restore_best_weights=True)])\n",
    "\n",
    "fig, ax = plt.subplots(figsize=(10,6))\n",
    "pd.Series(history.history['mse']).plot(ax=ax, label='training mse')\n",
    "pd.Series(history.history['val_mse']).plot(ax=ax, label='validation mse')\n",
    "ax.legend()"
   ]
  }
 ],
 "metadata": {
  "kernelspec": {
   "display_name": "base",
   "language": "python",
   "name": "python3"
  },
  "language_info": {
   "codemirror_mode": {
    "name": "ipython",
    "version": 3
   },
   "file_extension": ".py",
   "mimetype": "text/x-python",
   "name": "python",
   "nbconvert_exporter": "python",
   "pygments_lexer": "ipython3",
   "version": "3.11.4"
  }
 },
 "nbformat": 4,
 "nbformat_minor": 2
}
