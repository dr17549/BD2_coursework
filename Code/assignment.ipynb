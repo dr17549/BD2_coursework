{
 "cells": [
  {
   "cell_type": "code",
   "execution_count": 1,
   "metadata": {},
   "outputs": [],
   "source": [
    "import pandas as pd\n",
    "import numpy as np\n",
    "import matplotlib.pyplot as plt\n",
    "\n",
    "panel = pd.read_pickle('../Data/returns_chars_panel.pkl') \n",
    "macro = pd.read_pickle('../Data/macro_timeseries.pkl')"
   ]
  },
  {
   "cell_type": "code",
   "execution_count": 2,
   "metadata": {},
   "outputs": [],
   "source": [
    "# combine micro and macro data\n",
    "df = pd.merge(panel,macro,on='date',how='left',suffixes=['','_macro']) \n",
    "\n",
    "# features + targets \n",
    "X = df.drop(columns=['ret','excess_ret','rfree','permno','date']) # everything except return info and IDs\n",
    "y = df['excess_ret'] "
   ]
  },
  {
   "cell_type": "markdown",
   "metadata": {},
   "source": [
    "# Split Train Test "
   ]
  },
  {
   "cell_type": "code",
   "execution_count": 3,
   "metadata": {},
   "outputs": [],
   "source": [
    "# make 20 years of training data\n",
    "date = df['date']\n",
    "training = (date <= '1977-03') # selects \n",
    "X_train, y_train = X.loc[training].values, y.loc[training].values \n",
    "\n",
    "# make 10 years of validation data\n",
    "validation = (date > '1977-03') & (date <= '1987-03') \n",
    "X_val, y_val = X.loc[validation].values, y.loc[validation].values \n",
    "\n",
    "# make test data\n",
    "test = (date > '1987-03') \n",
    "X_test, y_test = X.loc[test].values, y.loc[test].values "
   ]
  },
  {
   "cell_type": "markdown",
   "metadata": {},
   "source": [
    "# Finding baseline model for Neural Network "
   ]
  },
  {
   "cell_type": "markdown",
   "metadata": {},
   "source": [
    "## 2 layers "
   ]
  },
  {
   "cell_type": "code",
   "execution_count": 4,
   "metadata": {},
   "outputs": [],
   "source": [
    "import tensorflow as tf\n",
    "tf.random.set_seed(999)\n",
    "from tensorflow.keras.regularizers import L2\n",
    "\n",
    "def nn2(lamda):\n",
    "    model = tf.keras.Sequential([\n",
    "        tf.keras.layers.Dense(32, activation='relu', kernel_regularizer = L2(lamda), kernel_initializer = 'he_normal'),\n",
    "        tf.keras.layers.BatchNormalization(),\n",
    "        tf.keras.layers.Dense(16, activation='relu', kernel_regularizer = L2(lamda), kernel_initializer = 'he_normal'), \n",
    "        tf.keras.layers.BatchNormalization(),\n",
    "        tf.keras.layers.Dense(1, activation='linear', kernel_regularizer = L2(lamda), kernel_initializer = 'he_normal')\n",
    "    ])\n",
    "    return model \n",
    "\n",
    "\n",
    "def nn3(lamda):\n",
    "    model = tf.keras.Sequential([\n",
    "        tf.keras.layers.Dense(32, activation='relu', kernel_regularizer = L2(lamda), kernel_initializer = 'he_normal'),\n",
    "        tf.keras.layers.BatchNormalization(),\n",
    "        tf.keras.layers.Dense(16, activation='relu', kernel_regularizer = L2(lamda), kernel_initializer = 'he_normal'), \n",
    "        tf.keras.layers.BatchNormalization(),\n",
    "        tf.keras.layers.Dense(8, activation='relu', kernel_regularizer = L2(lamda), kernel_initializer = 'he_normal'), \n",
    "        tf.keras.layers.BatchNormalization(),\n",
    "        tf.keras.layers.Dense(1, activation='linear', kernel_regularizer = L2(lamda), kernel_initializer = 'he_normal')\n",
    "    ])\n",
    "    return model \n",
    "\n",
    "def nn4(lamda):\n",
    "    model = tf.keras.Sequential([\n",
    "        tf.keras.layers.Dense(32, activation='relu', kernel_regularizer = L2(lamda), kernel_initializer = 'he_normal'),\n",
    "        tf.keras.layers.BatchNormalization(),\n",
    "        tf.keras.layers.Dense(16, activation='relu', kernel_regularizer = L2(lamda), kernel_initializer = 'he_normal'), \n",
    "        tf.keras.layers.BatchNormalization(),\n",
    "        tf.keras.layers.Dense(8, activation='relu', kernel_regularizer = L2(lamda), kernel_initializer = 'he_normal'), \n",
    "        tf.keras.layers.BatchNormalization(),\n",
    "        tf.keras.layers.Dense(4, activation='relu', kernel_regularizer = L2(lamda), kernel_initializer = 'he_normal'), \n",
    "        tf.keras.layers.BatchNormalization(),\n",
    "        tf.keras.layers.Dense(1, activation='linear', kernel_regularizer = L2(lamda), kernel_initializer = 'he_normal')\n",
    "    ])\n",
    "    return model \n"
   ]
  },
  {
   "cell_type": "code",
   "execution_count": 5,
   "metadata": {},
   "outputs": [
    {
     "data": {
      "text/html": [
       "<pre style=\"white-space:pre;overflow-x:auto;line-height:normal;font-family:Menlo,'DejaVu Sans Mono',consolas,'Courier New',monospace\"><span style=\"font-weight: bold\">Model: \"sequential\"</span>\n",
       "</pre>\n"
      ],
      "text/plain": [
       "\u001b[1mModel: \"sequential\"\u001b[0m\n"
      ]
     },
     "metadata": {},
     "output_type": "display_data"
    },
    {
     "data": {
      "text/html": [
       "<pre style=\"white-space:pre;overflow-x:auto;line-height:normal;font-family:Menlo,'DejaVu Sans Mono',consolas,'Courier New',monospace\">┏━━━━━━━━━━━━━━━━━━━━━━━━━━━━━━━━━┳━━━━━━━━━━━━━━━━━━━━━━━━┳━━━━━━━━━━━━━━━┓\n",
       "┃<span style=\"font-weight: bold\"> Layer (type)                    </span>┃<span style=\"font-weight: bold\"> Output Shape           </span>┃<span style=\"font-weight: bold\">       Param # </span>┃\n",
       "┡━━━━━━━━━━━━━━━━━━━━━━━━━━━━━━━━━╇━━━━━━━━━━━━━━━━━━━━━━━━╇━━━━━━━━━━━━━━━┩\n",
       "│ dense (<span style=\"color: #0087ff; text-decoration-color: #0087ff\">Dense</span>)                   │ ?                      │   <span style=\"color: #00af00; text-decoration-color: #00af00\">0</span> (unbuilt) │\n",
       "├─────────────────────────────────┼────────────────────────┼───────────────┤\n",
       "│ batch_normalization             │ ?                      │   <span style=\"color: #00af00; text-decoration-color: #00af00\">0</span> (unbuilt) │\n",
       "│ (<span style=\"color: #0087ff; text-decoration-color: #0087ff\">BatchNormalization</span>)            │                        │               │\n",
       "├─────────────────────────────────┼────────────────────────┼───────────────┤\n",
       "│ dense_1 (<span style=\"color: #0087ff; text-decoration-color: #0087ff\">Dense</span>)                 │ ?                      │   <span style=\"color: #00af00; text-decoration-color: #00af00\">0</span> (unbuilt) │\n",
       "├─────────────────────────────────┼────────────────────────┼───────────────┤\n",
       "│ batch_normalization_1           │ ?                      │   <span style=\"color: #00af00; text-decoration-color: #00af00\">0</span> (unbuilt) │\n",
       "│ (<span style=\"color: #0087ff; text-decoration-color: #0087ff\">BatchNormalization</span>)            │                        │               │\n",
       "├─────────────────────────────────┼────────────────────────┼───────────────┤\n",
       "│ dense_2 (<span style=\"color: #0087ff; text-decoration-color: #0087ff\">Dense</span>)                 │ ?                      │   <span style=\"color: #00af00; text-decoration-color: #00af00\">0</span> (unbuilt) │\n",
       "└─────────────────────────────────┴────────────────────────┴───────────────┘\n",
       "</pre>\n"
      ],
      "text/plain": [
       "┏━━━━━━━━━━━━━━━━━━━━━━━━━━━━━━━━━┳━━━━━━━━━━━━━━━━━━━━━━━━┳━━━━━━━━━━━━━━━┓\n",
       "┃\u001b[1m \u001b[0m\u001b[1mLayer (type)                   \u001b[0m\u001b[1m \u001b[0m┃\u001b[1m \u001b[0m\u001b[1mOutput Shape          \u001b[0m\u001b[1m \u001b[0m┃\u001b[1m \u001b[0m\u001b[1m      Param #\u001b[0m\u001b[1m \u001b[0m┃\n",
       "┡━━━━━━━━━━━━━━━━━━━━━━━━━━━━━━━━━╇━━━━━━━━━━━━━━━━━━━━━━━━╇━━━━━━━━━━━━━━━┩\n",
       "│ dense (\u001b[38;5;33mDense\u001b[0m)                   │ ?                      │   \u001b[38;5;34m0\u001b[0m (unbuilt) │\n",
       "├─────────────────────────────────┼────────────────────────┼───────────────┤\n",
       "│ batch_normalization             │ ?                      │   \u001b[38;5;34m0\u001b[0m (unbuilt) │\n",
       "│ (\u001b[38;5;33mBatchNormalization\u001b[0m)            │                        │               │\n",
       "├─────────────────────────────────┼────────────────────────┼───────────────┤\n",
       "│ dense_1 (\u001b[38;5;33mDense\u001b[0m)                 │ ?                      │   \u001b[38;5;34m0\u001b[0m (unbuilt) │\n",
       "├─────────────────────────────────┼────────────────────────┼───────────────┤\n",
       "│ batch_normalization_1           │ ?                      │   \u001b[38;5;34m0\u001b[0m (unbuilt) │\n",
       "│ (\u001b[38;5;33mBatchNormalization\u001b[0m)            │                        │               │\n",
       "├─────────────────────────────────┼────────────────────────┼───────────────┤\n",
       "│ dense_2 (\u001b[38;5;33mDense\u001b[0m)                 │ ?                      │   \u001b[38;5;34m0\u001b[0m (unbuilt) │\n",
       "└─────────────────────────────────┴────────────────────────┴───────────────┘\n"
      ]
     },
     "metadata": {},
     "output_type": "display_data"
    },
    {
     "data": {
      "text/html": [
       "<pre style=\"white-space:pre;overflow-x:auto;line-height:normal;font-family:Menlo,'DejaVu Sans Mono',consolas,'Courier New',monospace\"><span style=\"font-weight: bold\"> Total params: </span><span style=\"color: #00af00; text-decoration-color: #00af00\">0</span> (0.00 B)\n",
       "</pre>\n"
      ],
      "text/plain": [
       "\u001b[1m Total params: \u001b[0m\u001b[38;5;34m0\u001b[0m (0.00 B)\n"
      ]
     },
     "metadata": {},
     "output_type": "display_data"
    },
    {
     "data": {
      "text/html": [
       "<pre style=\"white-space:pre;overflow-x:auto;line-height:normal;font-family:Menlo,'DejaVu Sans Mono',consolas,'Courier New',monospace\"><span style=\"font-weight: bold\"> Trainable params: </span><span style=\"color: #00af00; text-decoration-color: #00af00\">0</span> (0.00 B)\n",
       "</pre>\n"
      ],
      "text/plain": [
       "\u001b[1m Trainable params: \u001b[0m\u001b[38;5;34m0\u001b[0m (0.00 B)\n"
      ]
     },
     "metadata": {},
     "output_type": "display_data"
    },
    {
     "data": {
      "text/html": [
       "<pre style=\"white-space:pre;overflow-x:auto;line-height:normal;font-family:Menlo,'DejaVu Sans Mono',consolas,'Courier New',monospace\"><span style=\"font-weight: bold\"> Non-trainable params: </span><span style=\"color: #00af00; text-decoration-color: #00af00\">0</span> (0.00 B)\n",
       "</pre>\n"
      ],
      "text/plain": [
       "\u001b[1m Non-trainable params: \u001b[0m\u001b[38;5;34m0\u001b[0m (0.00 B)\n"
      ]
     },
     "metadata": {},
     "output_type": "display_data"
    },
    {
     "name": "stdout",
     "output_type": "stream",
     "text": [
      "Epoch 1/100\n",
      "\u001b[1m1188/1188\u001b[0m \u001b[32m━━━━━━━━━━━━━━━━━━━━\u001b[0m\u001b[37m\u001b[0m \u001b[1m2s\u001b[0m 1ms/step - loss: 0.2049 - mse: 0.2039 - val_loss: 0.0316 - val_mse: 0.0307\n",
      "Epoch 2/100\n",
      "\u001b[1m1188/1188\u001b[0m \u001b[32m━━━━━━━━━━━━━━━━━━━━\u001b[0m\u001b[37m\u001b[0m \u001b[1m1s\u001b[0m 1ms/step - loss: 0.0207 - mse: 0.0198 - val_loss: 0.0283 - val_mse: 0.0274\n",
      "Epoch 3/100\n",
      "\u001b[1m1188/1188\u001b[0m \u001b[32m━━━━━━━━━━━━━━━━━━━━\u001b[0m\u001b[37m\u001b[0m \u001b[1m2s\u001b[0m 1ms/step - loss: 0.0194 - mse: 0.0185 - val_loss: 0.0277 - val_mse: 0.0268\n",
      "Epoch 4/100\n",
      "\u001b[1m1188/1188\u001b[0m \u001b[32m━━━━━━━━━━━━━━━━━━━━\u001b[0m\u001b[37m\u001b[0m \u001b[1m2s\u001b[0m 1ms/step - loss: 0.0190 - mse: 0.0181 - val_loss: 0.0275 - val_mse: 0.0267\n",
      "Epoch 5/100\n",
      "\u001b[1m1188/1188\u001b[0m \u001b[32m━━━━━━━━━━━━━━━━━━━━\u001b[0m\u001b[37m\u001b[0m \u001b[1m1s\u001b[0m 1ms/step - loss: 0.0188 - mse: 0.0180 - val_loss: 0.0274 - val_mse: 0.0267\n",
      "Epoch 6/100\n",
      "\u001b[1m1188/1188\u001b[0m \u001b[32m━━━━━━━━━━━━━━━━━━━━\u001b[0m\u001b[37m\u001b[0m \u001b[1m2s\u001b[0m 1ms/step - loss: 0.0186 - mse: 0.0179 - val_loss: 0.0275 - val_mse: 0.0269\n",
      "Epoch 7/100\n",
      "\u001b[1m1188/1188\u001b[0m \u001b[32m━━━━━━━━━━━━━━━━━━━━\u001b[0m\u001b[37m\u001b[0m \u001b[1m1s\u001b[0m 1ms/step - loss: 0.0184 - mse: 0.0178 - val_loss: 0.0277 - val_mse: 0.0271\n"
     ]
    },
    {
     "data": {
      "text/plain": [
       "<matplotlib.legend.Legend at 0x41de43150>"
      ]
     },
     "execution_count": 5,
     "metadata": {},
     "output_type": "execute_result"
    },
    {
     "data": {
      "image/png": "[encoded data removed]",
      "text/plain": [
       "<Figure size 1000x600 with 1 Axes>"
      ]
     },
     "metadata": {},
     "output_type": "display_data"
    }
   ],
   "source": [
    "from tensorflow.keras.callbacks import EarlyStopping\n",
    "\n",
    "# hypers\n",
    "batch_size = 512\n",
    "lamda = 1e-5\n",
    "patience = 2\n",
    "\n",
    "model = nn2(lamda)\n",
    "model.compile(optimizer='adam', loss='mse', metrics=['mse'])\n",
    "model.summary()\n",
    "history = model.fit(X_train, y_train, \n",
    "                    epochs=100, \n",
    "                    batch_size=batch_size, \n",
    "                    verbose=True,\n",
    "                    validation_data = (X_val, y_val),\n",
    "                    # Defined the callback to see if the validation result actually improves \n",
    "                    callbacks = [EarlyStopping(patience = patience, restore_best_weights=True)])\n",
    "\n",
    "fig, ax = plt.subplots(figsize=(10,6))\n",
    "pd.Series(history.history['mse']).plot(ax=ax, label='training mse')\n",
    "pd.Series(history.history['val_mse']).plot(ax=ax, label='validation mse')\n",
    "ax.legend()"
   ]
  },
  {
   "cell_type": "markdown",
   "metadata": {},
   "source": [
    "## Cross Validation for Lamda for L2 Regularization "
   ]
  },
  {
   "cell_type": "code",
   "execution_count": 63,
   "metadata": {},
   "outputs": [
    {
     "name": "stdout",
     "output_type": "stream",
     "text": [
      "Best lambda: 1e-05\n",
      "Validation MSE for the best lambda: 0.016629324480891227\n",
      "Epoch 1/100\n",
      "\u001b[1m1188/1188\u001b[0m \u001b[32m━━━━━━━━━━━━━━━━━━━━\u001b[0m\u001b[37m\u001b[0m \u001b[1m4s\u001b[0m 3ms/step - loss: 0.3977 - mse: 0.3967 - val_loss: 0.0373 - val_mse: 0.0364\n",
      "Epoch 2/100\n",
      "\u001b[1m1188/1188\u001b[0m \u001b[32m━━━━━━━━━━━━━━━━━━━━\u001b[0m\u001b[37m\u001b[0m \u001b[1m1s\u001b[0m 1ms/step - loss: 0.0232 - mse: 0.0223 - val_loss: 0.0298 - val_mse: 0.0289\n",
      "Epoch 3/100\n",
      "\u001b[1m1188/1188\u001b[0m \u001b[32m━━━━━━━━━━━━━━━━━━━━\u001b[0m\u001b[37m\u001b[0m \u001b[1m1s\u001b[0m 1ms/step - loss: 0.0202 - mse: 0.0193 - val_loss: 0.0284 - val_mse: 0.0275\n",
      "Epoch 4/100\n",
      "\u001b[1m1188/1188\u001b[0m \u001b[32m━━━━━━━━━━━━━━━━━━━━\u001b[0m\u001b[37m\u001b[0m \u001b[1m2s\u001b[0m 1ms/step - loss: 0.0194 - mse: 0.0186 - val_loss: 0.0278 - val_mse: 0.0269\n",
      "Epoch 5/100\n",
      "\u001b[1m1188/1188\u001b[0m \u001b[32m━━━━━━━━━━━━━━━━━━━━\u001b[0m\u001b[37m\u001b[0m \u001b[1m1s\u001b[0m 1ms/step - loss: 0.0191 - mse: 0.0183 - val_loss: 0.0274 - val_mse: 0.0266\n",
      "Epoch 6/100\n",
      "\u001b[1m1188/1188\u001b[0m \u001b[32m━━━━━━━━━━━━━━━━━━━━\u001b[0m\u001b[37m\u001b[0m \u001b[1m2s\u001b[0m 2ms/step - loss: 0.0188 - mse: 0.0180 - val_loss: 0.0275 - val_mse: 0.0268\n",
      "Epoch 7/100\n",
      "\u001b[1m1188/1188\u001b[0m \u001b[32m━━━━━━━━━━━━━━━━━━━━\u001b[0m\u001b[37m\u001b[0m \u001b[1m1s\u001b[0m 1ms/step - loss: 0.0185 - mse: 0.0179 - val_loss: 0.0277 - val_mse: 0.0271\n"
     ]
    },
    {
     "data": {
      "image/png": "[encoded data removed]",
      "text/plain": [
       "<Figure size 1000x600 with 1 Axes>"
      ]
     },
     "metadata": {},
     "output_type": "display_data"
    }
   ],
   "source": [
    "from sklearn.model_selection import KFold\n",
    "from tensorflow.keras import backend as K\n",
    "\n",
    "epochs = 100\n",
    "\n",
    "kfold = KFold(n_splits=5, shuffle=True, random_state=42)\n",
    "best_val_mse = float('inf')\n",
    "best_lamda = None\n",
    "history_dict = {}\n",
    "\n",
    "lamdas = [1e-6, 1e-5, 1e-4, 1e-3]  # Define a list of lambda values to cross-validate\n",
    "\n",
    "for lamda in lamdas:\n",
    "    val_mse_folds = []\n",
    "    for train_index, val_index in kfold.split(X_train):\n",
    "        X_train_fold, X_val_fold = X_train[train_index], X_train[val_index]\n",
    "        y_train_fold, y_val_fold = y_train[train_index], y_train[val_index]\n",
    "        \n",
    "        # Clear the Keras session to avoid clutter from old models\n",
    "        K.clear_session()\n",
    "        \n",
    "        model = nn2(lamda)\n",
    "        model.compile(optimizer='adam', loss='mse', metrics=['mse'])\n",
    "        \n",
    "        history = model.fit(X_train_fold, y_train_fold, \n",
    "                            epochs=epochs, \n",
    "                            batch_size=batch_size, \n",
    "                            verbose=False,\n",
    "                            validation_data=(X_val_fold, y_val_fold),\n",
    "                            callbacks=[EarlyStopping(patience=patience, restore_best_weights=True)])\n",
    "        \n",
    "        val_mse_folds.append(min(history.history['val_mse']))\n",
    "    \n",
    "    avg_val_mse = np.mean(val_mse_folds)\n",
    "    history_dict[lamda] = avg_val_mse\n",
    "    \n",
    "    if avg_val_mse < best_val_mse:\n",
    "        best_val_mse = avg_val_mse\n",
    "        best_lamda = lamda\n",
    "\n",
    "print(f'Best lambda: {best_lamda}')\n",
    "print(f'Validation MSE for the best lambda: {best_val_mse}')\n",
    "\n",
    "# Train the final model with the best lambda\n",
    "K.clear_session()\n",
    "model = nn2(best_lamda)\n",
    "model.compile(optimizer='adam', loss='mse', metrics=['mse'])\n",
    "history = model.fit(X_train, y_train, \n",
    "                    epochs=epochs, \n",
    "                    batch_size=batch_size, \n",
    "                    verbose=True,\n",
    "                    validation_data=(X_val, y_val),\n",
    "                    callbacks=[EarlyStopping(patience=patience, restore_best_weights=True)])\n",
    "\n",
    "# Plotting the training and validation MSE\n",
    "fig, ax = plt.subplots(figsize=(10, 6))\n",
    "pd.Series(history.history['mse']).plot(ax=ax, label='training mse')\n",
    "pd.Series(history.history['val_mse']).plot(ax=ax, label='validation mse')\n",
    "ax.legend()\n",
    "plt.show()"
   ]
  },
  {
   "cell_type": "markdown",
   "metadata": {},
   "source": [
    "# R squared Out of Sample "
   ]
  },
  {
   "cell_type": "code",
   "execution_count": 6,
   "metadata": {},
   "outputs": [
    {
     "name": "stdout",
     "output_type": "stream",
     "text": [
      "\u001b[1m77295/77295\u001b[0m \u001b[32m━━━━━━━━━━━━━━━━━━━━\u001b[0m\u001b[37m\u001b[0m \u001b[1m18s\u001b[0m 229us/step\n",
      "[[ 0.04192561]\n",
      " [ 0.01341754]\n",
      " [ 0.01662118]\n",
      " ...\n",
      " [-0.02418173]\n",
      " [-0.03271911]\n",
      " [-0.00951171]]\n"
     ]
    }
   ],
   "source": [
    "predictions = model.predict(X_test)\n",
    "print(predictions)"
   ]
  },
  {
   "cell_type": "code",
   "execution_count": null,
   "metadata": {},
   "outputs": [],
   "source": [
    "df_predictions = pd.DataFrame(predictions, columns=['Prediction'])\n",
    "df_predictions['Actual'] = y_test\n",
    "df_predictions['dif_squared'] = (df_predictions['Prediction'] - df_predictions['Actual'])**2\n",
    "df_predictions['actual_sqaured'] = df_predictions['Actual']**2\n",
    "R_OOS = 1 - (df_predictions['dif_squared'].sum()/df_predictions['actual_sqaured'].sum()) \n",
    "R_OOS"
   ]
  }
 ],
 "metadata": {
  "kernelspec": {
   "display_name": "base",
   "language": "python",
   "name": "python3"
  },
  "language_info": {
   "codemirror_mode": {
    "name": "ipython",
    "version": 3
   },
   "file_extension": ".py",
   "mimetype": "text/x-python",
   "name": "python",
   "nbconvert_exporter": "python",
   "pygments_lexer": "ipython3",
   "version": "3.11.4"
  }
 },
 "nbformat": 4,
 "nbformat_minor": 2
}
