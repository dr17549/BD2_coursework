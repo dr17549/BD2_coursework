{
 "cells": [
  {
   "cell_type": "code",
   "execution_count": 4,
   "metadata": {},
   "outputs": [],
   "source": [
    "import pandas as pd\n",
    "import numpy as np\n",
    "import matplotlib.pyplot as plt\n",
    "\n",
    "panel = pd.read_pickle('../Data/returns_chars_panel.pkl') \n",
    "macro = pd.read_pickle('../Data/macro_timeseries.pkl')"
   ]
  },
  {
   "cell_type": "code",
   "execution_count": 5,
   "metadata": {},
   "outputs": [],
   "source": [
    "# combine micro and macro data\n",
    "df = pd.merge(panel,macro,on='date',how='left',suffixes=['','_macro']) \n",
    "\n",
    "# features + targets \n",
    "X = df.drop(columns=['ret','excess_ret','rfree','permno','date']) # everything except return info and IDs\n",
    "y = df['excess_ret'] "
   ]
  },
  {
   "cell_type": "markdown",
   "metadata": {},
   "source": [
    "# Split Train Test "
   ]
  },
  {
   "cell_type": "code",
   "execution_count": 19,
   "metadata": {},
   "outputs": [],
   "source": [
    "# make 20 years of training data\n",
    "date = df['date']\n",
    "training = (date <= '1977-03') # selects \n",
    "X_train, y_train = X.loc[training].values, y.loc[training].values \n",
    "\n",
    "# make 10 years of validation data\n",
    "validation = (date > '1977-03') & (date <= '1987-03') \n",
    "X_val, y_val = X.loc[validation].values, y.loc[validation].values \n",
    "\n",
    "# make test data\n",
    "test = (date > '1987-03') \n",
    "X_test, y_test = X.loc[test].values, y.loc[test].values "
   ]
  },
  {
   "cell_type": "markdown",
   "metadata": {},
   "source": [
    "# Finding baseline model for Neural Network "
   ]
  },
  {
   "cell_type": "markdown",
   "metadata": {},
   "source": [
    "## 2 layers "
   ]
  },
  {
   "cell_type": "code",
   "execution_count": 57,
   "metadata": {},
   "outputs": [],
   "source": [
    "import tensorflow as tf\n",
    "tf.random.set_seed(999)\n",
    "from tensorflow.keras.regularizers import L2\n",
    "\n",
    "def nn1(lamda):\n",
    "    model = tf.keras.Sequential([\n",
    "        tf.keras.layers.Dense(32, activation='relu', kernel_regularizer = L2(lamda), kernel_initializer = 'he_normal'), \n",
    "        tf.keras.layers.BatchNormalization(),\n",
    "        tf.keras.layers.Dense(1, activation='linear', kernel_regularizer = L2(lamda), kernel_initializer = 'he_normal')\n",
    "    ])\n",
    "    return model \n",
    "\n",
    "def nn2(lamda):\n",
    "    model = tf.keras.Sequential([\n",
    "        tf.keras.layers.Dense(32, activation='relu', kernel_regularizer = L2(lamda), kernel_initializer = 'he_normal'),\n",
    "        tf.keras.layers.BatchNormalization(),\n",
    "        tf.keras.layers.Dense(16, activation='relu', kernel_regularizer = L2(lamda), kernel_initializer = 'he_normal'), \n",
    "        tf.keras.layers.BatchNormalization(),\n",
    "        tf.keras.layers.Dense(1, activation='linear', kernel_regularizer = L2(lamda), kernel_initializer = 'he_normal')\n",
    "    ])\n",
    "    return model \n",
    "\n",
    "\n",
    "def nn3(lamda):\n",
    "    model = tf.keras.Sequential([\n",
    "        tf.keras.layers.Dense(32, activation='relu', kernel_regularizer = L2(lamda), kernel_initializer = 'he_normal'),\n",
    "        tf.keras.layers.BatchNormalization(),\n",
    "        tf.keras.layers.Dense(16, activation='relu', kernel_regularizer = L2(lamda), kernel_initializer = 'he_normal'), \n",
    "        tf.keras.layers.BatchNormalization(),\n",
    "        tf.keras.layers.Dense(8, activation='relu', kernel_regularizer = L2(lamda), kernel_initializer = 'he_normal'), \n",
    "        tf.keras.layers.BatchNormalization(),\n",
    "        tf.keras.layers.Dense(1, activation='linear', kernel_regularizer = L2(lamda), kernel_initializer = 'he_normal')\n",
    "    ])\n",
    "    return model \n",
    "\n",
    "def nn4(lamda):\n",
    "    model = tf.keras.Sequential([\n",
    "        tf.keras.layers.Dense(32, activation='relu', kernel_regularizer = L2(lamda), kernel_initializer = 'he_normal'),\n",
    "        tf.keras.layers.BatchNormalization(),\n",
    "        tf.keras.layers.Dense(16, activation='relu', kernel_regularizer = L2(lamda), kernel_initializer = 'he_normal'), \n",
    "        tf.keras.layers.BatchNormalization(),\n",
    "        tf.keras.layers.Dense(8, activation='relu', kernel_regularizer = L2(lamda), kernel_initializer = 'he_normal'), \n",
    "        tf.keras.layers.BatchNormalization(),\n",
    "        tf.keras.layers.Dense(4, activation='relu', kernel_regularizer = L2(lamda), kernel_initializer = 'he_normal'), \n",
    "        tf.keras.layers.BatchNormalization(),\n",
    "        tf.keras.layers.Dense(1, activation='linear', kernel_regularizer = L2(lamda), kernel_initializer = 'he_normal')\n",
    "    ])\n",
    "    return model \n",
    "\n",
    "def nn5(lamda):\n",
    "    model = tf.keras.Sequential([\n",
    "        tf.keras.layers.Dense(32, activation='relu', kernel_regularizer = L2(lamda), kernel_initializer = 'he_normal'),\n",
    "        tf.keras.layers.BatchNormalization(),\n",
    "        tf.keras.layers.Dense(16, activation='relu', kernel_regularizer = L2(lamda), kernel_initializer = 'he_normal'), \n",
    "        tf.keras.layers.BatchNormalization(),\n",
    "        tf.keras.layers.Dense(8, activation='relu', kernel_regularizer = L2(lamda), kernel_initializer = 'he_normal'), \n",
    "        tf.keras.layers.BatchNormalization(),\n",
    "        tf.keras.layers.Dense(4, activation='relu', kernel_regularizer = L2(lamda), kernel_initializer = 'he_normal'), \n",
    "        tf.keras.layers.BatchNormalization(),\n",
    "        tf.keras.layers.Dense(2, activation='relu', kernel_regularizer = L2(lamda), kernel_initializer = 'he_normal'), \n",
    "        tf.keras.layers.BatchNormalization(),\n",
    "        tf.keras.layers.Dense(1, activation='linear', kernel_regularizer = L2(lamda), kernel_initializer = 'he_normal')\n",
    "    ])\n",
    "    return model "
   ]
  },
  {
   "cell_type": "code",
   "execution_count": 58,
   "metadata": {},
   "outputs": [
    {
     "ename": "ImportError",
     "evalue": "cannot import name 'modelling' from 'nn_models' (/Users/dhammatornriewcharoon/Documents/BD2_coursework/Code/nn_models.py)",
     "output_type": "error",
     "traceback": [
      "\u001b[0;31m---------------------------------------------------------------------------\u001b[0m",
      "\u001b[0;31mImportError\u001b[0m                               Traceback (most recent call last)",
      "Cell \u001b[0;32mIn[58], line 1\u001b[0m\n\u001b[0;32m----> 1\u001b[0m \u001b[38;5;28;01mfrom\u001b[39;00m \u001b[38;5;21;01mnn_models\u001b[39;00m \u001b[38;5;28;01mimport\u001b[39;00m modelling\n\u001b[1;32m      2\u001b[0m \u001b[38;5;28;01mfrom\u001b[39;00m \u001b[38;5;21;01mtensorflow\u001b[39;00m\u001b[38;5;21;01m.\u001b[39;00m\u001b[38;5;21;01mkeras\u001b[39;00m\u001b[38;5;21;01m.\u001b[39;00m\u001b[38;5;21;01mcallbacks\u001b[39;00m \u001b[38;5;28;01mimport\u001b[39;00m EarlyStopping\n\u001b[1;32m      4\u001b[0m \u001b[38;5;66;03m# hypers\u001b[39;00m\n",
      "\u001b[0;31mImportError\u001b[0m: cannot import name 'modelling' from 'nn_models' (/Users/dhammatornriewcharoon/Documents/BD2_coursework/Code/nn_models.py)"
     ]
    }
   ],
   "source": [
    "from tensorflow.keras.callbacks import EarlyStopping\n",
    "\n",
    "# hypers\n",
    "batch_size = 512\n",
    "learning_rate = 1e-4\n",
    "lamda = 1e-5\n",
    "patience = 2\n",
    "\n",
    "model = nn2(lamda)\n",
    "model.compile(optimizer='adam', loss='mse', metrics=['mse'])\n",
    "model.summary()\n",
    "history = model.fit(X_train, y_train, \n",
    "                    epochs=100, \n",
    "                    batch_size=batch_size, \n",
    "                    verbose=True,\n",
    "                    validation_data = (X_val, y_val),\n",
    "                    # Defined the callback to see if the validation result actually improves \n",
    "                    callbacks = [EarlyStopping(patience = patience, restore_best_weights=True)])\n",
    "\n",
    "fig, ax = plt.subplots(figsize=(10,6))\n",
    "pd.Series(history.history['mse']).plot(ax=ax, label='training mse')\n",
    "pd.Series(history.history['val_mse']).plot(ax=ax, label='validation mse')\n",
    "ax.legend()"
   ]
  }
 ],
 "metadata": {
  "kernelspec": {
   "display_name": "base",
   "language": "python",
   "name": "python3"
  },
  "language_info": {
   "codemirror_mode": {
    "name": "ipython",
    "version": 3
   },
   "file_extension": ".py",
   "mimetype": "text/x-python",
   "name": "python",
   "nbconvert_exporter": "python",
   "pygments_lexer": "ipython3",
   "version": "3.11.4"
  }
 },
 "nbformat": 4,
 "nbformat_minor": 2
}
